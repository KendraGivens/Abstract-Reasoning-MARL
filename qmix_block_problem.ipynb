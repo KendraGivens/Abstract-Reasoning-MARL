{
 "cells": [
  {
   "cell_type": "code",
   "execution_count": 1,
   "id": "24390d31-a22f-4132-bf14-f8e97f445816",
   "metadata": {},
   "outputs": [
    {
     "name": "stderr",
     "output_type": "stream",
     "text": [
      "2024-02-05 20:24:29.699525: E tensorflow/compiler/xla/stream_executor/cuda/cuda_dnn.cc:9342] Unable to register cuDNN factory: Attempting to register factory for plugin cuDNN when one has already been registered\n",
      "2024-02-05 20:24:29.699580: E tensorflow/compiler/xla/stream_executor/cuda/cuda_fft.cc:609] Unable to register cuFFT factory: Attempting to register factory for plugin cuFFT when one has already been registered\n",
      "2024-02-05 20:24:29.699618: E tensorflow/compiler/xla/stream_executor/cuda/cuda_blas.cc:1518] Unable to register cuBLAS factory: Attempting to register factory for plugin cuBLAS when one has already been registered\n"
     ]
    }
   ],
   "source": [
    "import os\n",
    "os.environ['TF_CPP_MIN_LOG_LEVEL'] = '2'\n",
    "import numpy as np\n",
    "import tensorflow as tf\n",
    "import random\n",
    "from IPython.display import clear_output\n",
    "from enum import Enum, auto"
   ]
  },
  {
   "cell_type": "code",
   "execution_count": 2,
   "id": "78e07b32-d017-4a95-af79-e34f07c7211a",
   "metadata": {},
   "outputs": [
    {
     "data": {
      "text/plain": [
       "'\\nAgent Network: MLP + GRU + MLP + policy\\nInput: current local state of the environmnent and action of the previous timestep\\nOutput: predicted q-value of the action that the policy selects\\n\\nMixing Network: FFn, weights produced by hyper network\\nInput: agent network outputs\\nOuptut: joint q-value\\n\\nHyper Network: single linear layer + absolute activation function\\nInput: global state of the environment (or concatenated local states?)\\nOutput: vector of weights for mixing network\\n'"
      ]
     },
     "execution_count": 2,
     "metadata": {},
     "output_type": "execute_result"
    }
   ],
   "source": [
    "'''\n",
    "Agent Network: MLP + GRU + MLP + policy\n",
    "Input: current local state of the environmnent and action of the previous timestep\n",
    "Output: predicted q-value of the action that the policy selects\n",
    "\n",
    "Mixing Network: FFn, weights produced by hyper network\n",
    "Input: agent network outputs\n",
    "Ouptut: joint q-value\n",
    "\n",
    "Hyper Network: single linear layer + absolute activation function\n",
    "Input: global state of the environment (or concatenated local states?)\n",
    "Output: vector of weights for mixing network\n",
    "'''"
   ]
  },
  {
   "cell_type": "code",
   "execution_count": 3,
   "id": "af6faad3-e235-43ea-a349-95babc583c50",
   "metadata": {},
   "outputs": [],
   "source": [
    "class Actions(Enum):\n",
    "    NO_OP = 0\n",
    "    MOVE_UP = auto()\n",
    "    MOVE_DOWN = auto()\n",
    "    MOVE_LEFT = auto()\n",
    "    MOVE_RIGHT = auto()\n",
    "    \n",
    "    @property\n",
    "    def delta(self):\n",
    "        if self == self.NO_OP:\n",
    "            return (0, 0)\n",
    "        if self == self.MOVE_UP:\n",
    "            return (-1, 0)\n",
    "        if self == self.MOVE_DOWN:\n",
    "            return (1, 0)\n",
    "        if self == self.MOVE_LEFT:\n",
    "            return (0, -1)\n",
    "        if self == self.MOVE_RIGHT:\n",
    "            return (0, 1)\n",
    "\n",
    "    @property \n",
    "    def shape(self):\n",
    "        return len(Actions)\n",
    "\n",
    "    @property \n",
    "    def one_hot(self):\n",
    "        return tf.one_hot(self.value, len(Actions))"
   ]
  },
  {
   "cell_type": "code",
   "execution_count": 138,
   "id": "ed3dfb32-e203-415f-928b-655d6b92049d",
   "metadata": {},
   "outputs": [],
   "source": [
    "class GridEnv():\n",
    "    def __init__(self, rows, cols, num_agents):\n",
    "        self.rows = rows\n",
    "        self.cols = cols\n",
    "        \n",
    "        self.num_agents = num_agents\n",
    "        self.agent_list = []\n",
    "        \n",
    "        self.goal = []\n",
    "        self.block = []\n",
    "\n",
    "        self.qvalues = [0] * self.num_agents\n",
    "\n",
    "    def qmix(self):\n",
    "        agent_inputs = [agent.local_model.inputs for agent in self.agent_list]\n",
    "        agent_outputs = [agent.local_model.output for agent in self.agent_list]\n",
    "        global_state = tf.keras.layers.Input(batch_shape=(1, *np.shape(self.get_global_state())))\n",
    "\n",
    "        q_values = tf.keras.layers.Concatenate()(agent_outputs)\n",
    "        y = MixingLayer(grid)((q_values, global_state))\n",
    "        qmix = tf.keras.Model((agent_inputs, global_state), (agent_outputs, y))\n",
    "        qmix.compile(run_eagerly=True)\n",
    "        return qmix\n",
    "\n",
    "    def populate_grid(self):\n",
    "        positions = np.random.choice(self.rows*self.cols, self.num_agents+2, replace=False)\n",
    "\n",
    "        self.goal = (positions[0]//self.cols, positions[0]%self.cols)\n",
    "        self.block = (positions[1]//self.cols, positions[1]%self.cols)\n",
    "\n",
    "        for i in range(self.num_agents):\n",
    "            agent = Agent(self, i)\n",
    "            agent.position = (positions[i+2]//self.cols, positions[i+2]%self.cols)\n",
    "            self.agent_list.append(agent)\n",
    "\n",
    "    def get_global_state(self):\n",
    "        return tf.one_hot([p[0]*self.cols+p[1] for p in (self.goal, self.block, *[a.position for a in self.agent_list])], self.rows*self.cols)\n",
    "    \n",
    "    def vizualize_grid(self): \n",
    "        grid = [list(\".\"*self.cols) for _ in range(self.rows)]\n",
    "\n",
    "        grid[self.goal[0]][self.goal[1]] = \"G\"\n",
    "        grid[self.block[0]][self.block[1]]= \"B\"\n",
    "\n",
    "        for i, agent in enumerate(self.agent_list):\n",
    "            grid[agent.position[0]][agent.position[1]] = str(i)\n",
    "\n",
    "        return '\\n'.join([' '.join(row) for row in grid])\n",
    "\n",
    "    def __repr__(self):\n",
    "        return str(self.vizualize_grid())"
   ]
  },
  {
   "cell_type": "code",
   "execution_count": 201,
   "id": "a354d3ab-cc86-44ca-a898-d4fc27f56f7c",
   "metadata": {},
   "outputs": [],
   "source": [
    "class Agent():\n",
    "    def __init__(self, grid, id):\n",
    "        self.grid = grid\n",
    "\n",
    "        self.id = id\n",
    "        self.position = [0, 0]\n",
    "        self.epsilon = 0.1\n",
    "        self.gamma = 0.1\n",
    "        self.alpha = 0.1\n",
    "        \n",
    "        self.local_model = self._build_local_model() \n",
    "\n",
    "        self.history = ([], [])\n",
    "        self.previous_action = Actions.NO_OP\n",
    "\n",
    "    def get_local_state(self):\n",
    "        return self.grid.get_global_state()\n",
    "\n",
    "    def take_action(self, action):\n",
    "        future_position = self.position\n",
    "        future_position += np.array(action.delta)\n",
    "        future_position %= [self.grid.rows, self.grid.cols]\n",
    "\n",
    "        if list(future_position) not in [a.position for a in self.grid.agent_list]:\n",
    "            if list(future_position) == self.grid.block:\n",
    "                self.grid.block += np.array(action.delta)\n",
    "                self.grid.block %= [self.grid.rows, self.grid.cols]\n",
    "            else:\n",
    "                self.position = future_position\n",
    "            \n",
    "    def get_reward(self):\n",
    "        if self.grid.block == self.grid.goal:\n",
    "            return 0\n",
    "        else:\n",
    "            return -1\n",
    "\n",
    "    def get_correct_qvalue(self, pred_max_value, reward, current_max_value):\n",
    "        q_value = pred_max_value + self.alpha * (reward + self.gamma * current_max_value - pred_max_value)\n",
    "        return q_value\n",
    "                \n",
    "    def _build_local_model(self):\n",
    "        local_state = tf.keras.layers.Input(batch_shape=(1, None, self.grid.num_agents+2, self.grid.rows * self.grid.cols), name=f\"Local_State{self.id}\") #Input: local state\n",
    "        prev_action = tf.keras.layers.Input(batch_shape=(1, None, len(Actions)), name=f\"Prev_Action{self.id}\") #Input: previous action\n",
    "        print(self.grid.num_agents, self.grid.rows, self.grid.cols)\n",
    "        y = tf.keras.layers.Reshape((-1, (self.grid.num_agents+2) * self.grid.rows * self.grid.cols))(local_state)\n",
    "        y = tf.keras.layers.Concatenate(axis=-1)([y, prev_action])\n",
    "        y = tf.keras.layers.Dense(64, activation=\"relu\")(y)\n",
    "        y = tf.keras.layers.GRU(64, stateful=False)(y)\n",
    "        y = tf.keras.layers.Dense(len(Actions))(y) #Output: q value of actions\n",
    "\n",
    "        model = tf.keras.Model((local_state, prev_action), y) # outputs hidden state tensor->pass back in as input return_state=true\n",
    "        model.compile(optimizer=tf.keras.optimizers.Adam(learning_rate=1e-3), loss=tf.keras.losses.Huber())\n",
    "        \n",
    "        return model\n",
    "    \n",
    "    def step(self):\n",
    "        current_state = self.get_local_state()\n",
    "\n",
    "        self.history[0].append(current_state)\n",
    "        self.history[1].append(self.previous_action.one_hot)\n",
    "        \n",
    "        pred_qvalues = self.local_model((np.array([self.history[0]]), np.array([self.history[1]])))[0].numpy() #placeholder action\n",
    "        pred_max_index = np.argmax(pred_qvalues)\n",
    "\n",
    "        if random.random() < self.epsilon:\n",
    "           action = random.choice(list(Actions))\n",
    "        else:\n",
    "            action = Actions(pred_max_index)\n",
    "            \n",
    "        self.take_action(action)\n",
    "        self.previous_action = action\n",
    "        future_state = self.get_local_state()\n",
    "        \n",
    "        reward = self.get_reward()\n",
    "        \n",
    "        future_qvalues  = self.local_model((np.array([self.history[0]+[future_state]]), np.array([self.history[1]+[action.one_hot]])))[0].numpy()\n",
    "        future_max_index = np.argmax(future_qvalues)\n",
    "\n",
    "        target_qvalue = self.get_correct_qvalue(pred_qvalues[pred_max_index], reward, future_qvalues[future_max_index])\n",
    "        target_qvalues = pred_qvalues.copy()\n",
    "        target_qvalues[pred_max_index] = target_qvalue\n",
    "\n",
    "        self.grid.q_values[self.id] = target_qvalue\n",
    "\n",
    "        self.local_model.fit((np.array([self.history[0]]), np.array([self.history[1]])), np.array([target_qvalues]), verbose=0) "
   ]
  },
  {
   "cell_type": "code",
   "execution_count": 202,
   "id": "49cf496f-563b-47d1-8648-9cfdc2c49efc",
   "metadata": {},
   "outputs": [],
   "source": [
    "class MixingLayer(tf.keras.layers.Layer):\n",
    "    def __init__(self, grid, **kwargs):\n",
    "        super().__init__(**kwargs)\n",
    "        self.grid = grid\n",
    "        \n",
    "        self.hyper_w1 = tf.keras.layers.Dense(grid.num_agents*64, use_bias=False) \n",
    "        self.hyper_b1 = tf.keras.layers.Dense(64, use_bias=False)\n",
    "        \n",
    "        self.hyper_w2 = tf.keras.layers.Dense(64, use_bias=False)\n",
    "        self.hyper_b2 = tf.keras.layers.Dense(64, use_bias=False)\n",
    "        self.hyper_b2_final = tf.keras.layers.Dense(1, use_bias=False)\n",
    "\n",
    "    def call(self, inputs):\n",
    "        q_values = tf.transpose(tf.reshape(inputs[0], (1, self.grid.num_agents, -1)), (0, 2, 1))\n",
    "        state_dim = inputs[0].shape[-1]\n",
    "        global_state = tf.reshape(inputs[1], (1, -1))\n",
    "\n",
    "        w1 = self.hyper_w1(global_state) # take in global state to produce 1st layer weights\n",
    "        w1 = tf.math.abs(w1) # take absolute value\n",
    "        w1 = tf.reshape(w1, (1, grid.num_agents, 64))\n",
    "        b1 = self.hyper_b1(global_state) # add the bias\n",
    "\n",
    "        output_w1 = tf.keras.activations.elu(tf.matmul(q_values, w1) + b1)\n",
    "        \n",
    "        w2 = self.hyper_w2(global_state)\n",
    "        w2 = tf.math.abs(w2)\n",
    "        b2 = tf.keras.activations.relu(self.hyper_b2(global_state))\n",
    "        b2 = self.hyper_b2_final(b2)\n",
    "        \n",
    "        joint_q = tf.matmul(output_w1, w2, transpose_b=True) + b2\n",
    "        joint_q = tf.reshape(joint_q, (1, -1))\n",
    "        return joint_q"
   ]
  },
  {
   "cell_type": "code",
   "execution_count": 203,
   "id": "abf9b535-642f-4401-ad2f-0f770cb5d55b",
   "metadata": {},
   "outputs": [
    {
     "name": "stdout",
     "output_type": "stream",
     "text": [
      "2 6 6\n",
      "2 6 6\n"
     ]
    }
   ],
   "source": [
    "rows = 6\n",
    "cols = 6\n",
    "num_agents = 2\n",
    "\n",
    "grid = GridEnv(rows, cols, num_agents)\n",
    "grid.populate_grid()"
   ]
  },
  {
   "cell_type": "code",
   "execution_count": 204,
   "id": "df0fe0a0-ed2a-46a9-8e42-f89f2ba7fc4a",
   "metadata": {},
   "outputs": [],
   "source": [
    "qmix = grid.qmix()"
   ]
  },
  {
   "cell_type": "code",
   "execution_count": 205,
   "id": "e45199cb-0fe6-4e8b-89ea-12425d992add",
   "metadata": {},
   "outputs": [
    {
     "data": {
      "text/plain": [
       "([[<KerasTensor: shape=(1, None, 4, 36) dtype=float32 (created by layer 'Local_State0')>,\n",
       "   <KerasTensor: shape=(1, None, 5) dtype=float32 (created by layer 'Prev_Action0')>],\n",
       "  [<KerasTensor: shape=(1, None, 4, 36) dtype=float32 (created by layer 'Local_State1')>,\n",
       "   <KerasTensor: shape=(1, None, 5) dtype=float32 (created by layer 'Prev_Action1')>]],\n",
       " <KerasTensor: shape=(1, 4, 36) dtype=float32 (created by layer 'input_152')>)"
      ]
     },
     "execution_count": 205,
     "metadata": {},
     "output_type": "execute_result"
    }
   ],
   "source": [
    "qmix.input"
   ]
  },
  {
   "cell_type": "code",
   "execution_count": 206,
   "id": "91f2712f-2732-423d-8941-576f466dc16e",
   "metadata": {},
   "outputs": [
    {
     "data": {
      "text/plain": [
       "<keras.src.engine.functional.Functional at 0x7f588861fe50>"
      ]
     },
     "execution_count": 206,
     "metadata": {},
     "output_type": "execute_result"
    }
   ],
   "source": [
    "m = grid.agent_list[0].local_model\n",
    "m"
   ]
  },
  {
   "cell_type": "code",
   "execution_count": 207,
   "id": "0cf5edce-7fd7-4383-bc09-1e66236e9ae5",
   "metadata": {},
   "outputs": [
    {
     "data": {
      "text/plain": [
       "array([[[[0., 0., 0., 0., 0., 0., 0., 0., 0., 0., 0., 0., 0., 0., 0.,\n",
       "          0., 0., 0., 0., 0., 0., 0., 0., 1., 0., 0., 0., 0., 0., 0.,\n",
       "          0., 0., 0., 0., 0., 0.],\n",
       "         [0., 0., 0., 0., 0., 0., 0., 0., 0., 1., 0., 0., 0., 0., 0.,\n",
       "          0., 0., 0., 0., 0., 0., 0., 0., 0., 0., 0., 0., 0., 0., 0.,\n",
       "          0., 0., 0., 0., 0., 0.],\n",
       "         [0., 0., 1., 0., 0., 0., 0., 0., 0., 0., 0., 0., 0., 0., 0.,\n",
       "          0., 0., 0., 0., 0., 0., 0., 0., 0., 0., 0., 0., 0., 0., 0.,\n",
       "          0., 0., 0., 0., 0., 0.],\n",
       "         [0., 0., 0., 0., 0., 0., 0., 0., 0., 0., 0., 0., 0., 0., 0.,\n",
       "          0., 0., 0., 0., 0., 0., 0., 0., 0., 0., 0., 0., 0., 0., 0.,\n",
       "          0., 0., 0., 0., 0., 1.]]]], dtype=float32)"
      ]
     },
     "execution_count": 207,
     "metadata": {},
     "output_type": "execute_result"
    }
   ],
   "source": [
    "s = np.array([[grid.agent_list[0].get_local_state()]])\n",
    "s"
   ]
  },
  {
   "cell_type": "code",
   "execution_count": 208,
   "id": "b1071f7f-dc41-4bff-8adb-a12d639b737f",
   "metadata": {},
   "outputs": [
    {
     "data": {
      "text/plain": [
       "array([[[1., 0., 0., 0., 0.]]], dtype=float32)"
      ]
     },
     "execution_count": 208,
     "metadata": {},
     "output_type": "execute_result"
    }
   ],
   "source": [
    "p = np.array([[grid.agent_list[0].previous_action.one_hot]])\n",
    "p"
   ]
  },
  {
   "cell_type": "code",
   "execution_count": 209,
   "id": "3de4d064-21d2-4d73-acce-1a8923087eb5",
   "metadata": {},
   "outputs": [
    {
     "data": {
      "text/plain": [
       "<tf.Tensor: shape=(1, 5), dtype=float32, numpy=\n",
       "array([[ 0.07961136, -0.08607979, -0.07113151, -0.01014953, -0.06284774]],\n",
       "      dtype=float32)>"
      ]
     },
     "execution_count": 209,
     "metadata": {},
     "output_type": "execute_result"
    }
   ],
   "source": [
    "grid.agent_list[0].local_model((s, p))"
   ]
  },
  {
   "cell_type": "code",
   "execution_count": 210,
   "id": "456a646b-2088-4f26-99e5-2e255e4d0892",
   "metadata": {},
   "outputs": [],
   "source": [
    "global_state = grid.get_global_state()\n",
    "agent_states = []\n",
    "for agent in grid.agent_list:\n",
    "    agent_states.append(np.array([[agent.get_local_state()]]))\n",
    "    agent_states.append(np.array([[agent.previous_action.one_hot]]))"
   ]
  },
  {
   "cell_type": "code",
   "execution_count": 211,
   "id": "3fd99bf5-116d-4590-863e-852773f8ca01",
   "metadata": {},
   "outputs": [
    {
     "data": {
      "text/plain": [
       "[<KerasTensor: shape=(1, None, 4, 36) dtype=float32 (created by layer 'Local_State0')>,\n",
       " <KerasTensor: shape=(1, None, 5) dtype=float32 (created by layer 'Prev_Action0')>,\n",
       " <KerasTensor: shape=(1, None, 4, 36) dtype=float32 (created by layer 'Local_State1')>,\n",
       " <KerasTensor: shape=(1, None, 5) dtype=float32 (created by layer 'Prev_Action1')>,\n",
       " <KerasTensor: shape=(1, 4, 36) dtype=float32 (created by layer 'input_152')>]"
      ]
     },
     "execution_count": 211,
     "metadata": {},
     "output_type": "execute_result"
    }
   ],
   "source": [
    "qmix.inputs"
   ]
  },
  {
   "cell_type": "code",
   "execution_count": 217,
   "id": "7686935c-7e05-4d8b-ab35-e658a9d1934c",
   "metadata": {},
   "outputs": [],
   "source": [
    "q_values, q_total = qmix((agent_states, global_state))"
   ]
  },
  {
   "cell_type": "code",
   "execution_count": 218,
   "id": "6c12bfd3-9c43-45e7-aa7a-8bedfdd5bd72",
   "metadata": {},
   "outputs": [
    {
     "data": {
      "text/plain": [
       "[<tf.Tensor: shape=(1, 5), dtype=float32, numpy=\n",
       " array([[ 0.07961136, -0.08607979, -0.07113151, -0.01014953, -0.06284774]],\n",
       "       dtype=float32)>,\n",
       " <tf.Tensor: shape=(1, 5), dtype=float32, numpy=\n",
       " array([[ 0.02095309, -0.19670895,  0.04991528,  0.0665072 ,  0.12462554]],\n",
       "       dtype=float32)>]"
      ]
     },
     "execution_count": 218,
     "metadata": {},
     "output_type": "execute_result"
    }
   ],
   "source": [
    "q_values"
   ]
  },
  {
   "cell_type": "code",
   "execution_count": 219,
   "id": "d800d75e-0c4f-402b-a82c-2ac8e9ce2269",
   "metadata": {},
   "outputs": [
    {
     "data": {
      "text/plain": [
       "<tf.Tensor: shape=(1, 5), dtype=float32, numpy=\n",
       "array([[ 0.474014  , -0.00524091,  0.31197304,  0.41220272,  0.4150582 ]],\n",
       "      dtype=float32)>"
      ]
     },
     "execution_count": 219,
     "metadata": {},
     "output_type": "execute_result"
    }
   ],
   "source": [
    "q_total"
   ]
  },
  {
   "cell_type": "code",
   "execution_count": 213,
   "id": "cd686b1a-37ba-4197-b174-1acc1e141236",
   "metadata": {},
   "outputs": [
    {
     "data": {
      "image/png": "[encoded data removed]",
      "text/plain": [
       "<IPython.core.display.Image object>"
      ]
     },
     "execution_count": 213,
     "metadata": {},
     "output_type": "execute_result"
    }
   ],
   "source": [
    "tf.keras.utils.plot_model(qmix)"
   ]
  }
 ],
 "metadata": {
  "kernelspec": {
   "display_name": "Python 3 (ipykernel)",
   "language": "python",
   "name": "python3"
  },
  "language_info": {
   "codemirror_mode": {
    "name": "ipython",
    "version": 3
   },
   "file_extension": ".py",
   "mimetype": "text/x-python",
   "name": "python",
   "nbconvert_exporter": "python",
   "pygments_lexer": "ipython3",
   "version": "3.11.7"
  }
 },
 "nbformat": 4,
 "nbformat_minor": 5
}
