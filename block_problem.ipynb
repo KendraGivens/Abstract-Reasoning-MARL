{
 "cells": [
  {
   "cell_type": "code",
   "execution_count": 1,
   "id": "ed073ba4-949b-4c62-85f1-ec9b70d62780",
   "metadata": {},
   "outputs": [
    {
     "name": "stderr",
     "output_type": "stream",
     "text": [
      "2023-10-05 16:47:43.367894: I tensorflow/core/platform/cpu_feature_guard.cc:182] This TensorFlow binary is optimized to use available CPU instructions in performance-critical operations.\n",
      "To enable the following instructions: AVX2 FMA, in other operations, rebuild TensorFlow with the appropriate compiler flags.\n",
      "2023-10-05 16:47:44.353528: W tensorflow/compiler/tf2tensorrt/utils/py_utils.cc:38] TF-TRT Warning: Could not find TensorRT\n"
     ]
    }
   ],
   "source": [
    "import numpy as np\n",
    "import tensorflow as tf\n",
    "import random"
   ]
  },
  {
   "cell_type": "code",
   "execution_count": 37,
   "id": "e0950e7e-4504-4faf-b7db-a78ad2dea4c0",
   "metadata": {},
   "outputs": [],
   "source": [
    "class Grid():\n",
    "    def __init__(self): \n",
    "        self.rows = 10\n",
    "        self.cols = 10\n",
    "        \n",
    "        self.goal = tuple(np.random.randint((self.rows, self.cols)))\n",
    "        self.block = tuple(np.random.randint((self.rows, self.cols)))\n",
    "        \n",
    "        self.agent_list = []\n",
    "        self.agent_positions = []\n",
    "\n",
    "        self.action_shape = 10\n",
    "        self.state_list = []\n",
    "        \n",
    "        self.model = self._centralized_network()\n",
    "        \n",
    "    def add_agent(self, agent, grid):\n",
    "        agent.id = self.num_agents\n",
    "        agent.position = self.spawn_agent()\n",
    "        agent.model = self.model\n",
    "        agent.grid = grid\n",
    "        self.agent_positions.append(agent.position)\n",
    "        self.agent_list.append(agent)\n",
    "\n",
    "    def spawn_agent(self):\n",
    "        while True:\n",
    "            position = tuple(np.random.randint((self.rows, self.cols)))\n",
    "            if position not in self.agent_positions and position != self.goal and position != self.block:\n",
    "                return position\n",
    "                \n",
    "    @property\n",
    "    def num_agents(self):\n",
    "        return len(self.agent_list)\n",
    "\n",
    "    def global_state(self):\n",
    "        state = np.zeros((self.rows, self.cols))\n",
    "        for agent in self.agent_list:\n",
    "            state[agent.position[0]][agent.position[1]] = 1 #agent.id + 1\n",
    "        state[self.goal[0]][self.goal[1]] = -1\n",
    "        state[self.block[0]][self.block[1]]= -2\n",
    "        return state\n",
    "        \n",
    "    def _centralized_network(self):\n",
    "        state_shape = np.shape(self.global_state())\n",
    "        y = x = tf.keras.layers.Input(state_shape)\n",
    "        y = tf.keras.layers.Dense(64)(y)\n",
    "        y = tf.keras.layers.Dense(self.action_shape)(y)\n",
    "        model = tf.keras.Model(x, y)\n",
    "        return model"
   ]
  },
  {
   "cell_type": "code",
   "execution_count": 38,
   "id": "46c8a130-fd98-4d2f-89b6-d0da7fbbf577",
   "metadata": {},
   "outputs": [],
   "source": [
    "class Action():\n",
    "    push = 0\n",
    "    move = 1\n",
    "    right = [0, 1]\n",
    "    left = [0, -1]\n",
    "    up = [-1, 0]\n",
    "    down = [1, 0]\n",
    "    no_op = [0, 0]\n",
    "    \n",
    "    def __init__(self, type, action):\n",
    "        self.action_type = type\n",
    "        self.action = action\n",
    "\n",
    "    @classmethod\n",
    "    def random(cls):\n",
    "        action_type = random.choice([Action.push, Action.move])\n",
    "        action = random.choice([Action.left, Action.right, Action.up, Action.down])\n",
    "        return cls(action_type, action)"
   ]
  },
  {
   "cell_type": "code",
   "execution_count": 41,
   "id": "b5c3247a-c4b9-4bad-b2ba-28c01b94f1c6",
   "metadata": {},
   "outputs": [],
   "source": [
    "class Agent():\n",
    "    def __init__(self):\n",
    "        self.id = 0\n",
    "        self.position = 0\n",
    "        self.epsilon = 0.1\n",
    "        \n",
    "        self.grid = []\n",
    "        \n",
    "        self.model = []\n",
    "        \n",
    "        self.current_state = []\n",
    "        self.previous_state = []\n",
    "        \n",
    "    def __repr__(self):\n",
    "        return f\"Agent(id={self.id}, pos={self.position})\"\n",
    "\n",
    "    def move(self, action, grid):\n",
    "        if action.action_type == 0:\n",
    "            grid.block += np.array(action.action)\n",
    "            grid.block %= [grid.rows, grid.cols]\n",
    "        \n",
    "        if action.action_type == 1:\n",
    "            self.position += np.array(action.action)\n",
    "            self.position %= [grid.rows, grid.cols]\n",
    "            \n",
    "    def current_state():\n",
    "        print(grid.global_state())\n",
    "    \n",
    "    def policy(self):        \n",
    "        #Get the current state \n",
    "        current_state = self.get_state()\n",
    "        \n",
    "        #Take random action with some probability\n",
    "        if random.random() < self.epsilon:\n",
    "            return Action.random()\n",
    "        #Otherwise pick the best action to take\n",
    "        else:\n",
    "            predicted_action_q_values = self.model.predict(current_state)\n",
    "            best_action_q_value = np.max(predicted_action_q_values)\n",
    "            action = Actions[best_action_q_value]"
   ]
  },
  {
   "cell_type": "code",
   "execution_count": 42,
   "id": "d5afabe7-8212-4d3b-a4ed-c977e6868751",
   "metadata": {},
   "outputs": [],
   "source": [
    "grid = Grid()"
   ]
  },
  {
   "cell_type": "code",
   "execution_count": 43,
   "id": "64cf3f30-dd21-4122-8e97-d1e1250637f7",
   "metadata": {},
   "outputs": [],
   "source": [
    "for i in range(5):\n",
    "    agent = Agent()\n",
    "    grid.add_agent(agent, grid)"
   ]
  },
  {
   "cell_type": "code",
   "execution_count": 44,
   "id": "89157e32-8b74-4db4-9600-bed7fd85e416",
   "metadata": {},
   "outputs": [
    {
     "data": {
      "text/plain": [
       "array([[ 0.,  0.,  0.,  0.,  0.,  0.,  0.,  0.,  0.,  0.],\n",
       "       [ 0.,  0.,  0.,  0.,  0.,  0.,  0.,  0.,  0.,  0.],\n",
       "       [ 0.,  0.,  0.,  0.,  0.,  1.,  0.,  0.,  0.,  0.],\n",
       "       [ 0.,  0.,  0.,  0.,  0.,  0.,  0.,  0.,  0.,  0.],\n",
       "       [ 0.,  0.,  0.,  0.,  0., -2.,  1.,  0.,  0.,  1.],\n",
       "       [ 0.,  0.,  0.,  0.,  0.,  0.,  0.,  0.,  0.,  0.],\n",
       "       [ 1.,  0.,  0.,  0.,  0.,  0.,  0.,  0., -1.,  0.],\n",
       "       [ 1.,  0.,  0.,  0.,  0.,  0.,  0.,  0.,  0.,  0.],\n",
       "       [ 0.,  0.,  0.,  0.,  0.,  0.,  0.,  0.,  0.,  0.],\n",
       "       [ 0.,  0.,  0.,  0.,  0.,  0.,  0.,  0.,  0.,  0.]])"
      ]
     },
     "execution_count": 44,
     "metadata": {},
     "output_type": "execute_result"
    }
   ],
   "source": [
    "grid.global_state()"
   ]
  },
  {
   "cell_type": "code",
   "execution_count": 46,
   "id": "9378359c-8834-424b-ad80-4851d02bca6d",
   "metadata": {},
   "outputs": [
    {
     "data": {
      "text/plain": [
       "[Agent(id=0, pos=(7, 0)),\n",
       " Agent(id=1, pos=(6, 0)),\n",
       " Agent(id=2, pos=(4, 6)),\n",
       " Agent(id=3, pos=(4, 9)),\n",
       " Agent(id=4, pos=(2, 5))]"
      ]
     },
     "execution_count": 46,
     "metadata": {},
     "output_type": "execute_result"
    }
   ],
   "source": [
    "grid.agent_list"
   ]
  },
  {
   "cell_type": "code",
   "execution_count": null,
   "id": "62b5b17d-acca-4847-b69e-7b2882eb5361",
   "metadata": {},
   "outputs": [],
   "source": [
    "action = Action()"
   ]
  },
  {
   "cell_type": "code",
   "execution_count": 54,
   "id": "3193f922-ca42-4696-b8f5-9cd5d932ef1e",
   "metadata": {},
   "outputs": [
    {
     "ename": "TypeError",
     "evalue": "Agent.move() missing 2 required positional arguments: 'action' and 'grid'",
     "output_type": "error",
     "traceback": [
      "\u001b[0;31m---------------------------------------------------------------------------\u001b[0m",
      "\u001b[0;31mTypeError\u001b[0m                                 Traceback (most recent call last)",
      "Cell \u001b[0;32mIn[54], line 1\u001b[0m\n\u001b[0;32m----> 1\u001b[0m \u001b[43mgrid\u001b[49m\u001b[38;5;241;43m.\u001b[39;49m\u001b[43magent_list\u001b[49m\u001b[43m[\u001b[49m\u001b[38;5;241;43m0\u001b[39;49m\u001b[43m]\u001b[49m\u001b[38;5;241;43m.\u001b[39;49m\u001b[43mmove\u001b[49m\u001b[43m(\u001b[49m\u001b[43m)\u001b[49m\n",
      "\u001b[0;31mTypeError\u001b[0m: Agent.move() missing 2 required positional arguments: 'action' and 'grid'"
     ]
    }
   ],
   "source": [
    "grid.agent_list[0].move()"
   ]
  },
  {
   "cell_type": "code",
   "execution_count": null,
   "id": "176f1f78-93dd-4311-b9bc-c9927718ba03",
   "metadata": {},
   "outputs": [],
   "source": []
  }
 ],
 "metadata": {
  "kernelspec": {
   "display_name": "Python 3 (ipykernel)",
   "language": "python",
   "name": "python3"
  },
  "language_info": {
   "codemirror_mode": {
    "name": "ipython",
    "version": 3
   },
   "file_extension": ".py",
   "mimetype": "text/x-python",
   "name": "python",
   "nbconvert_exporter": "python",
   "pygments_lexer": "ipython3",
   "version": "3.11.5"
  }
 },
 "nbformat": 4,
 "nbformat_minor": 5
}
