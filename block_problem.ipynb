{
 "cells": [
  {
   "cell_type": "code",
   "execution_count": 1,
   "id": "ed073ba4-949b-4c62-85f1-ec9b70d62780",
   "metadata": {},
   "outputs": [
    {
     "name": "stderr",
     "output_type": "stream",
     "text": [
      "2023-10-06 18:53:44.895626: I tensorflow/core/platform/cpu_feature_guard.cc:182] This TensorFlow binary is optimized to use available CPU instructions in performance-critical operations.\n",
      "To enable the following instructions: AVX2 FMA, in other operations, rebuild TensorFlow with the appropriate compiler flags.\n",
      "2023-10-06 18:53:45.809832: W tensorflow/compiler/tf2tensorrt/utils/py_utils.cc:38] TF-TRT Warning: Could not find TensorRT\n"
     ]
    }
   ],
   "source": [
    "import numpy as np\n",
    "import tensorflow as tf\n",
    "import random"
   ]
  },
  {
   "cell_type": "code",
   "execution_count": 2,
   "id": "cc2489c1-1249-4eb0-84a2-b993de0474b2",
   "metadata": {},
   "outputs": [],
   "source": [
    "# 1. Predict joint actions from central network given local states + global state [optional] -> Action_A, Action_B (action for agent A)\n",
    "# 2. Agents perform the actions selected by the central network\n",
    "# 3. Agents update their internal network by plugging in the original local state, plus the action the central network selected, to optimize its own prediction\n",
    "\n",
    "# Central network: take in global state, output actions for all agents\n",
    "# Local network: take in local state, output action for one agent\n",
    "\n",
    "# Centralized Training:\n",
    "# \ttake in global state\n",
    "# \toutput q-values for actions for all agents\n",
    "# \tagents take the action and go from state S->S'\n",
    "# \tagents calculate the reward from state S'\n",
    "# \tagents compute q-value for their individual actions taken \n",
    "# \ttrain model with updated q values \n",
    "# \ttrain local model with local state S with the same q-values as targets\n",
    "\n",
    "# Q(s,a) = Q(s,a) + alpha[Reward(s,a) + gamma*maxQ(s', a') - Q(s,a)]"
   ]
  },
  {
   "cell_type": "code",
   "execution_count": 3,
   "id": "46c8a130-fd98-4d2f-89b6-d0da7fbbf577",
   "metadata": {},
   "outputs": [],
   "source": [
    "class Action():\n",
    "    push = 0\n",
    "    move = 1\n",
    "    right = [0, 1]\n",
    "    left = [0, -1]\n",
    "    up = [-1, 0]\n",
    "    down = [1, 0]\n",
    "    no_op = [0, 0]\n",
    "    action_list = [(push, left), (push, right), (push, up), (push, down), (push, no_op), (move, left), (move, right), (move, up), (move, down), (move, no_op)]\n",
    "    \n",
    "    def __init__(self, type, action):\n",
    "        self.action_type = type\n",
    "        self.action = action\n",
    "\n",
    "    @classmethod\n",
    "    def random(cls):\n",
    "        action_type = random.choice([Action.push, Action.move])\n",
    "        action = random.choice([Action.left, Action.right, Action.up, Action.down])\n",
    "        action_type, action = random.choice(Action.action_list)\n",
    "        return cls(action_type, action)"
   ]
  },
  {
   "cell_type": "code",
   "execution_count": 4,
   "id": "e0950e7e-4504-4faf-b7db-a78ad2dea4c0",
   "metadata": {},
   "outputs": [],
   "source": [
    "class Grid():\n",
    "    def __init__(self):\n",
    "        self.rows = 4\n",
    "        self.cols = 4\n",
    "        \n",
    "        self.goal = tuple(np.random.randint((self.rows, self.cols)))\n",
    "        self.block = tuple(np.random.randint((self.rows, self.cols)))\n",
    "        \n",
    "        self.agent_list = []\n",
    "        self.agent_positions = []\n",
    "        \n",
    "        self.action_shape = 10      \n",
    "\n",
    "        self.epsilon = 0.1\n",
    "        \n",
    "        self.central_model = self._centralized_network()\n",
    "        \n",
    "    def add_agent(self, agent, grid):\n",
    "        agent.id = self.num_agents\n",
    "        agent.position = self.spawn_agent()\n",
    "        agent.grid = grid\n",
    "        self.agent_positions.append(agent.position)\n",
    "        self.agent_list.append(agent)\n",
    "\n",
    "    def spawn_agent(self):\n",
    "        while True:\n",
    "            position = tuple(np.random.randint((self.rows, self.cols)))\n",
    "            if position not in self.agent_positions and position != self.goal and position != self.block:\n",
    "                return position\n",
    "                \n",
    "    @property\n",
    "    def num_agents(self):\n",
    "        return len(self.agent_list)\n",
    "\n",
    "    @property\n",
    "    def local_states_shape(self):\n",
    "        return np.shape(self.local_states())\n",
    "\n",
    "    def global_state(self):\n",
    "        state = np.zeros((self.rows, self.cols))\n",
    "        for agent in self.agent_list:\n",
    "            state[agent.position[0]][agent.position[1]] = 1\n",
    "        state[self.goal[0]][self.goal[1]] = -1\n",
    "        state[self.block[0]][self.block[1]]= -2\n",
    "         \n",
    "        return state\n",
    "\n",
    "    def local_states(self):\n",
    "        local_states = []\n",
    "        if len(self.agent_list) > 0:\n",
    "            for agent in self.agent_list:\n",
    "                # local_states = np.concatenate((agent.local_state(), local_states)) #Ask about this\n",
    "                local_states.append(agent.local_state())\n",
    "            return local_states\n",
    "        return []\n",
    "        \n",
    "    def _centralized_network(self):                \n",
    "        y = x = tf.keras.layers.Input(np.shape(self.local_states_shape)) #Input: all local states of agents\n",
    "        y = tf.keras.layers.Dense(64)(y)\n",
    "        y = tf.keras.layers.Dense(self.action_shape *self.num_agents)(y) #Output: actions for each agent\n",
    "        model = tf.keras.Model(x, y)\n",
    "\n",
    "        return model\n",
    "\n",
    "    def calculate_reward(self, action, current_state):\n",
    "        return 0\n",
    "\n",
    "    def calculate_q_value(self, action, current_state, previous_state):\n",
    "        return 0\n",
    "\n",
    "    def central_policy(self):\n",
    "        calculated_q_values = []\n",
    "        local_states = self.local_states()\n",
    "        predicted_q_values = self.central_model.predict(local_states)\n",
    "        max_q_values_indices = np.argmax(q_values, axis=1)\n",
    "        max_q_values = predicted_q_values[np.arange(len(self.num_agents)), max_q_values_indices]\n",
    "        actions_list = [Action.action_list[x] for x in max_q_values_indices]\n",
    "        \n",
    "        for agent in self.agent_list:\n",
    "            #Convert max q-value to action\n",
    "            agent.previous_state = agent.current_state\n",
    "            \n",
    "            #Take random action with some probability\n",
    "            if random.random() < self.epsilon:\n",
    "                action = Action.random()\n",
    "\n",
    "            #Convert q-value index to action\n",
    "            \n",
    "            \n",
    "            agent.take_action()\n",
    "            \n",
    "            agent.current_state = agent.local_state()\n",
    "            reward = self.calculate_reward(action, agent.current_state)\n",
    "            calculated_q_values.append(self.calculate_q_value())\n",
    "\n",
    "            #Fit local model\n",
    "            agent.local_model.fit(agent.local_state(), q_value)\n",
    "        #Replace predicted max q-value with correct one\n",
    "        self.central_model.fit(local_states, correct_q_values) #Train model with the correct q-values"
   ]
  },
  {
   "cell_type": "code",
   "execution_count": 5,
   "id": "b5c3247a-c4b9-4bad-b2ba-28c01b94f1c6",
   "metadata": {},
   "outputs": [],
   "source": [
    "class Agent():\n",
    "    def __init__(self):\n",
    "        self.id = 0\n",
    "        self.position = 0\n",
    "        self.epsilon = 0.1\n",
    "        \n",
    "        self.grid = []\n",
    "        \n",
    "        self.action_shape = 10      \n",
    "\n",
    "        self.local_model = self._local_network() \n",
    "        \n",
    "        self.current_state = []\n",
    "        self.previous_state = []\n",
    "        \n",
    "    def __repr__(self):\n",
    "        return f\"Agent(id={self.id}, pos={self.position})\"\n",
    "\n",
    "    def take_action(self, action, grid):\n",
    "        if action.action_type == 0:\n",
    "            grid.block += np.array(action.action)\n",
    "            grid.block %= [grid.rows, grid.cols]\n",
    "        \n",
    "        if action.action_type == 1:\n",
    "            self.position += np.array(action.action)\n",
    "            self.position %= [grid.rows, grid.cols]\n",
    "            \n",
    "    def local_state(self):\n",
    "        local = np.copy(grid.global_state())\n",
    "        local[self.position] = 2\n",
    "        return local\n",
    "\n",
    "    def _local_network(self):        \n",
    "        local_state = self.local_state()\n",
    "        y = x = tf.keras.layers.Input(np.shape(local_state)) #Input: local state of agent\n",
    "        y = tf.keras.layers.Dense(64)(y)\n",
    "        y = tf.keras.layers.Dense(self.action_shape)(y) #Output: action for agent\n",
    "        model = tf.keras.Model(x, y)\n",
    "        \n",
    "        return model\n",
    "    \n",
    "    def local_policy(self):        \n",
    "        #Get the current state \n",
    "        current_state = self.get_state()\n",
    "        \n",
    "        #Take random action with some probability\n",
    "        if random.random() < self.epsilon:\n",
    "            return Action.random()\n",
    "        #Otherwise pick the best action to take\n",
    "        else:\n",
    "            predicted_action_q_values = self.model.predict(current_state)\n",
    "            best_action_q_value = np.max(predicted_action_q_values)\n",
    "            action = Actions[best_action_q_value]"
   ]
  },
  {
   "cell_type": "code",
   "execution_count": 6,
   "id": "d5afabe7-8212-4d3b-a4ed-c977e6868751",
   "metadata": {},
   "outputs": [],
   "source": [
    "grid = Grid()"
   ]
  },
  {
   "cell_type": "code",
   "execution_count": 7,
   "id": "64cf3f30-dd21-4122-8e97-d1e1250637f7",
   "metadata": {},
   "outputs": [],
   "source": [
    "for i in range(5):\n",
    "    agent = Agent()\n",
    "    grid.add_agent(agent, grid)"
   ]
  },
  {
   "cell_type": "code",
   "execution_count": 8,
   "id": "89157e32-8b74-4db4-9600-bed7fd85e416",
   "metadata": {},
   "outputs": [
    {
     "data": {
      "text/plain": [
       "array([[ 1.,  1., -2., -1.],\n",
       "       [ 1.,  0.,  0.,  0.],\n",
       "       [ 0.,  0.,  1.,  0.],\n",
       "       [ 0.,  1.,  0.,  0.]])"
      ]
     },
     "execution_count": 8,
     "metadata": {},
     "output_type": "execute_result"
    }
   ],
   "source": [
    "grid.global_state()"
   ]
  },
  {
   "cell_type": "code",
   "execution_count": 9,
   "id": "4e3fa4d9-b2b9-4d59-8dc4-c4d0bc4bf17d",
   "metadata": {},
   "outputs": [
    {
     "ename": "ValueError",
     "evalue": "in user code:\n\n    File \"/opt/conda/lib/python3.11/site-packages/keras/engine/training.py\", line 2169, in predict_function  *\n        return step_function(self, iterator)\n    File \"/opt/conda/lib/python3.11/site-packages/keras/engine/training.py\", line 2155, in step_function  **\n        outputs = model.distribute_strategy.run(run_step, args=(data,))\n    File \"/opt/conda/lib/python3.11/site-packages/keras/engine/training.py\", line 2143, in run_step  **\n        outputs = model.predict_step(data)\n    File \"/opt/conda/lib/python3.11/site-packages/keras/engine/training.py\", line 2111, in predict_step\n        return self(x, training=False)\n    File \"/opt/conda/lib/python3.11/site-packages/keras/utils/traceback_utils.py\", line 70, in error_handler\n        raise e.with_traceback(filtered_tb) from None\n    File \"/opt/conda/lib/python3.11/site-packages/keras/engine/input_spec.py\", line 219, in assert_input_compatibility\n        raise ValueError(\n\n    ValueError: Layer \"model\" expects 1 input(s), but it received 5 input tensors. Inputs received: [<tf.Tensor 'IteratorGetNext:0' shape=(None, 4) dtype=float32>, <tf.Tensor 'IteratorGetNext:1' shape=(None, 4) dtype=float32>, <tf.Tensor 'IteratorGetNext:2' shape=(None, 4) dtype=float32>, <tf.Tensor 'IteratorGetNext:3' shape=(None, 4) dtype=float32>, <tf.Tensor 'IteratorGetNext:4' shape=(None, 4) dtype=float32>]\n",
     "output_type": "error",
     "traceback": [
      "\u001b[0;31m---------------------------------------------------------------------------\u001b[0m",
      "\u001b[0;31mValueError\u001b[0m                                Traceback (most recent call last)",
      "Cell \u001b[0;32mIn[9], line 1\u001b[0m\n\u001b[0;32m----> 1\u001b[0m \u001b[43mgrid\u001b[49m\u001b[38;5;241;43m.\u001b[39;49m\u001b[43mcentral_policy\u001b[49m\u001b[43m(\u001b[49m\u001b[43m)\u001b[49m\n",
      "Cell \u001b[0;32mIn[4], line 74\u001b[0m, in \u001b[0;36mGrid.central_policy\u001b[0;34m(self)\u001b[0m\n\u001b[1;32m     72\u001b[0m calculated_q_values \u001b[38;5;241m=\u001b[39m []\n\u001b[1;32m     73\u001b[0m local_states \u001b[38;5;241m=\u001b[39m \u001b[38;5;28mself\u001b[39m\u001b[38;5;241m.\u001b[39mlocal_states()\n\u001b[0;32m---> 74\u001b[0m predicted_q_values \u001b[38;5;241m=\u001b[39m \u001b[38;5;28;43mself\u001b[39;49m\u001b[38;5;241;43m.\u001b[39;49m\u001b[43mcentral_model\u001b[49m\u001b[38;5;241;43m.\u001b[39;49m\u001b[43mpredict\u001b[49m\u001b[43m(\u001b[49m\u001b[43mlocal_states\u001b[49m\u001b[43m)\u001b[49m\n\u001b[1;32m     75\u001b[0m max_q_values_indices \u001b[38;5;241m=\u001b[39m np\u001b[38;5;241m.\u001b[39margmax(q_values, axis\u001b[38;5;241m=\u001b[39m\u001b[38;5;241m1\u001b[39m)\n\u001b[1;32m     76\u001b[0m max_q_values \u001b[38;5;241m=\u001b[39m predicted_q_values[np\u001b[38;5;241m.\u001b[39marange(\u001b[38;5;28mlen\u001b[39m(\u001b[38;5;28mself\u001b[39m\u001b[38;5;241m.\u001b[39mnum_agents)), max_q_values_indices]\n",
      "File \u001b[0;32m/opt/conda/lib/python3.11/site-packages/keras/utils/traceback_utils.py:70\u001b[0m, in \u001b[0;36mfilter_traceback.<locals>.error_handler\u001b[0;34m(*args, **kwargs)\u001b[0m\n\u001b[1;32m     67\u001b[0m     filtered_tb \u001b[38;5;241m=\u001b[39m _process_traceback_frames(e\u001b[38;5;241m.\u001b[39m__traceback__)\n\u001b[1;32m     68\u001b[0m     \u001b[38;5;66;03m# To get the full stack trace, call:\u001b[39;00m\n\u001b[1;32m     69\u001b[0m     \u001b[38;5;66;03m# `tf.debugging.disable_traceback_filtering()`\u001b[39;00m\n\u001b[0;32m---> 70\u001b[0m     \u001b[38;5;28;01mraise\u001b[39;00m e\u001b[38;5;241m.\u001b[39mwith_traceback(filtered_tb) \u001b[38;5;28;01mfrom\u001b[39;00m \u001b[38;5;28;01mNone\u001b[39;00m\n\u001b[1;32m     71\u001b[0m \u001b[38;5;28;01mfinally\u001b[39;00m:\n\u001b[1;32m     72\u001b[0m     \u001b[38;5;28;01mdel\u001b[39;00m filtered_tb\n",
      "File \u001b[0;32m/tmp/__autograph_generated_filehm7hp1rk.py:15\u001b[0m, in \u001b[0;36mouter_factory.<locals>.inner_factory.<locals>.tf__predict_function\u001b[0;34m(iterator)\u001b[0m\n\u001b[1;32m     13\u001b[0m \u001b[38;5;28;01mtry\u001b[39;00m:\n\u001b[1;32m     14\u001b[0m     do_return \u001b[38;5;241m=\u001b[39m \u001b[38;5;28;01mTrue\u001b[39;00m\n\u001b[0;32m---> 15\u001b[0m     retval_ \u001b[38;5;241m=\u001b[39m ag__\u001b[38;5;241m.\u001b[39mconverted_call(ag__\u001b[38;5;241m.\u001b[39mld(step_function), (ag__\u001b[38;5;241m.\u001b[39mld(\u001b[38;5;28mself\u001b[39m), ag__\u001b[38;5;241m.\u001b[39mld(iterator)), \u001b[38;5;28;01mNone\u001b[39;00m, fscope)\n\u001b[1;32m     16\u001b[0m \u001b[38;5;28;01mexcept\u001b[39;00m:\n\u001b[1;32m     17\u001b[0m     do_return \u001b[38;5;241m=\u001b[39m \u001b[38;5;28;01mFalse\u001b[39;00m\n",
      "\u001b[0;31mValueError\u001b[0m: in user code:\n\n    File \"/opt/conda/lib/python3.11/site-packages/keras/engine/training.py\", line 2169, in predict_function  *\n        return step_function(self, iterator)\n    File \"/opt/conda/lib/python3.11/site-packages/keras/engine/training.py\", line 2155, in step_function  **\n        outputs = model.distribute_strategy.run(run_step, args=(data,))\n    File \"/opt/conda/lib/python3.11/site-packages/keras/engine/training.py\", line 2143, in run_step  **\n        outputs = model.predict_step(data)\n    File \"/opt/conda/lib/python3.11/site-packages/keras/engine/training.py\", line 2111, in predict_step\n        return self(x, training=False)\n    File \"/opt/conda/lib/python3.11/site-packages/keras/utils/traceback_utils.py\", line 70, in error_handler\n        raise e.with_traceback(filtered_tb) from None\n    File \"/opt/conda/lib/python3.11/site-packages/keras/engine/input_spec.py\", line 219, in assert_input_compatibility\n        raise ValueError(\n\n    ValueError: Layer \"model\" expects 1 input(s), but it received 5 input tensors. Inputs received: [<tf.Tensor 'IteratorGetNext:0' shape=(None, 4) dtype=float32>, <tf.Tensor 'IteratorGetNext:1' shape=(None, 4) dtype=float32>, <tf.Tensor 'IteratorGetNext:2' shape=(None, 4) dtype=float32>, <tf.Tensor 'IteratorGetNext:3' shape=(None, 4) dtype=float32>, <tf.Tensor 'IteratorGetNext:4' shape=(None, 4) dtype=float32>]\n"
     ]
    }
   ],
   "source": [
    "grid.central_policy()"
   ]
  },
  {
   "cell_type": "code",
   "execution_count": null,
   "id": "be5e2be7-b604-4067-8a2d-b69ef71b9853",
   "metadata": {},
   "outputs": [],
   "source": []
  },
  {
   "cell_type": "code",
   "execution_count": null,
   "id": "bcb79314-08e5-4de3-938d-5d1b91506464",
   "metadata": {},
   "outputs": [],
   "source": []
  },
  {
   "cell_type": "code",
   "execution_count": null,
   "id": "6b9e490e-bd54-4454-88fe-3b52705c0132",
   "metadata": {},
   "outputs": [],
   "source": []
  }
 ],
 "metadata": {
  "kernelspec": {
   "display_name": "Python 3 (ipykernel)",
   "language": "python",
   "name": "python3"
  },
  "language_info": {
   "codemirror_mode": {
    "name": "ipython",
    "version": 3
   },
   "file_extension": ".py",
   "mimetype": "text/x-python",
   "name": "python",
   "nbconvert_exporter": "python",
   "pygments_lexer": "ipython3",
   "version": "3.11.5"
  }
 },
 "nbformat": 4,
 "nbformat_minor": 5
}
