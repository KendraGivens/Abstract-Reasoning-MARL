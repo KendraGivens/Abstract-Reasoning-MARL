{
 "cells": [
  {
   "cell_type": "code",
   "execution_count": 1,
   "id": "ed073ba4-949b-4c62-85f1-ec9b70d62780",
   "metadata": {},
   "outputs": [
    {
     "name": "stderr",
     "output_type": "stream",
     "text": [
      "2023-10-11 23:48:36.518499: I tensorflow/core/platform/cpu_feature_guard.cc:182] This TensorFlow binary is optimized to use available CPU instructions in performance-critical operations.\n",
      "To enable the following instructions: AVX2 FMA, in other operations, rebuild TensorFlow with the appropriate compiler flags.\n",
      "2023-10-11 23:48:37.490065: W tensorflow/compiler/tf2tensorrt/utils/py_utils.cc:38] TF-TRT Warning: Could not find TensorRT\n"
     ]
    }
   ],
   "source": [
    "import numpy as np\n",
    "import tensorflow as tf\n",
    "import random"
   ]
  },
  {
   "cell_type": "code",
   "execution_count": 2,
   "id": "cc2489c1-1249-4eb0-84a2-b993de0474b2",
   "metadata": {},
   "outputs": [],
   "source": [
    "# 1. Predict joint actions from central network given local states + global state [optional] -> Action_A, Action_B (action for agent A)\n",
    "# 2. Agents perform the actions selected by the central network\n",
    "# 3. Agents update their internal network by plugging in the original local state, plus the action the central network selected, to optimize its own prediction\n",
    "\n",
    "# Central network: take in global state, output actions for all agents\n",
    "# Local network: take in local state, output action for one agent\n",
    "\n",
    "# Centralized Training:\n",
    "# \ttake in global state\n",
    "# \toutput q-values for actions for all agents\n",
    "# \tagents take the action and go from state S->S'\n",
    "# \tagents calculate the reward from state S'\n",
    "# \tagents compute q-value for their individual actions taken \n",
    "# \ttrain model with updated q values \n",
    "# \ttrain local model with local state S with the same q-values as targets\n",
    "\n",
    "# Q(s,a) = Q(s,a) + alpha[Reward(s,a) + gamma*maxQ(s', a') - Q(s,a)]"
   ]
  },
  {
   "cell_type": "code",
   "execution_count": 3,
   "id": "46c8a130-fd98-4d2f-89b6-d0da7fbbf577",
   "metadata": {},
   "outputs": [],
   "source": [
    "class Action():\n",
    "    push = 0\n",
    "    move = 1\n",
    "    right = [0, 1]\n",
    "    left = [0, -1]\n",
    "    up = [-1, 0]\n",
    "    down = [1, 0]\n",
    "    no_op = [0, 0]\n",
    "    action_list = [(push, left), (push, right), (push, up), (push, down), (push, no_op), (move, left), (move, right), (move, up), (move, down), (move, no_op)]\n",
    "    \n",
    "    def __init__(self, type, action):\n",
    "        self.action_type = type\n",
    "        self.action = action\n",
    "\n",
    "    def __repr__(self):\n",
    "        type = \"Push\" if self.action_type == self.push else \"Move\"\n",
    "        return f\"Action(type={type}, {self.action})\"\n",
    "\n",
    "    @classmethod\n",
    "    def random(cls):\n",
    "        action_type = random.choice([Action.push, Action.move])\n",
    "        action = random.choice([Action.left, Action.right, Action.up, Action.down])\n",
    "        action_type, action = random.choice(Action.action_list)\n",
    "        return cls(action_type, action)"
   ]
  },
  {
   "cell_type": "code",
   "execution_count": 109,
   "id": "e0950e7e-4504-4faf-b7db-a78ad2dea4c0",
   "metadata": {},
   "outputs": [],
   "source": [
    "class Grid():\n",
    "    def __init__(self):\n",
    "        self.rows = 4\n",
    "        self.cols = 4\n",
    "\n",
    "        self.num_agents = 5\n",
    "        \n",
    "        self.goal = tuple(np.random.randint((self.rows, self.cols)))\n",
    "        self.block = tuple(np.random.randint((self.rows, self.cols)))\n",
    "        \n",
    "        self.agent_list = []\n",
    "        self.agent_positions = []\n",
    "        \n",
    "        self.action_shape = 10      \n",
    "\n",
    "        self.epsilon = 0.1\n",
    "        self.gamma = 0.1\n",
    "        self.alpha = 0.1\n",
    "        \n",
    "        self.central_model = self._centralized_network()\n",
    "        \n",
    "    def add_agents(self):\n",
    "        for i in range(self.num_agents):\n",
    "            agent = Agent()\n",
    "            agent.id = i\n",
    "            agent.position = self.spawn_agent()\n",
    "            agent.grid = grid\n",
    "            self.agent_positions.append(agent.position)\n",
    "            self.agent_list.append(agent)\n",
    "\n",
    "    def spawn_agent(self):\n",
    "        while True:\n",
    "            position = tuple(np.random.randint((self.rows, self.cols)))\n",
    "            if position not in self.agent_positions and position != self.goal and position != self.block:\n",
    "                return position\n",
    "\n",
    "    @property\n",
    "    def local_states_shape(self):\n",
    "        return (self.num_agents, self.rows, self.cols)\n",
    "\n",
    "    def global_state(self):\n",
    "        state = np.zeros((self.rows, self.cols))\n",
    "        for agent in self.agent_list:\n",
    "            state[agent.position[0]][agent.position[1]] = 1\n",
    "        state[self.goal[0]][self.goal[1]] = -1\n",
    "        state[self.block[0]][self.block[1]]= -2\n",
    "         \n",
    "        return state\n",
    "\n",
    "    def local_states(self):\n",
    "        local_states = []\n",
    "        \n",
    "        for agent in self.agent_list:\n",
    "            local_states.append(agent.local_state())\n",
    "        \n",
    "        return np.array(local_states)\n",
    "                    \n",
    "    def _centralized_network(self):  \n",
    "        y = x = tf.keras.layers.Input(self.local_states_shape) #Input: all local states of agents\n",
    "        y = tf.keras.layers.Flatten()(y)\n",
    "        y = tf.keras.layers.Dense(64)(y)\n",
    "        y = tf.keras.layers.Dense(self.action_shape * self.num_agents)(y) \n",
    "        y = tf.keras.layers.Reshape((self.num_agents, self.action_shape))(y) #Output: actions for each agent\n",
    "        \n",
    "        model = tf.keras.Model(x, y)\n",
    "\n",
    "        return model\n",
    "\n",
    "    def calculate_reward(self, state, action):\n",
    "        if self.block[0] == self.goal[0] and self.block[1] == self.goal[1]:\n",
    "            return 1\n",
    "        return 0\n",
    "    \n",
    "    def calculate_q_values(self, pred_q_values, rewards, future_q_values):\n",
    "        q_values = []\n",
    "        # Q(S,A) + lr[R(s,a) + gamma(MaxQ'(s',A')) - Q(S,A)]\n",
    "        for i, agent in enumerate(self.agent_list):\n",
    "            q_values.append(pred_q_values[i] + self.alpha * (rewards[i] + self.gamma * future_q_values[i] - pred_q_values[i]))\n",
    "        return q_values\n",
    "    \n",
    "    def central_policy(self):\n",
    "        calculated_q_values = []\n",
    "        rewards = []\n",
    "        previous_local_states = self.local_states()\n",
    "        \n",
    "        predicted_q_values = self.central_model(np.array([previous_local_states]))[0].numpy()\n",
    "        \n",
    "        max_q_values_indices = np.argmax(predicted_q_values, axis=1)\n",
    "        max_q_values = predicted_q_values[np.arange(self.num_agents), max_q_values_indices]\n",
    "\n",
    "        actions_list = [Action(*Action.action_list[x]) for x in max_q_values_indices]\n",
    "\n",
    "        for i, agent in enumerate(self.agent_list):\n",
    "            agent.previous_state = previous_local_states[i]\n",
    "\n",
    "        for i, agent in enumerate(self.agent_list):\n",
    "            if random.random() < self.epsilon:\n",
    "                action = Action.random()\n",
    "            else:\n",
    "                action = actions_list[i]\n",
    "\n",
    "            agent.take_action(action)\n",
    "            agent.current_state = agent.local_state()\n",
    "\n",
    "            rewards.append(self.calculate_reward(action, agent.current_state))\n",
    "            \n",
    "        current_local_states = self.local_states()\n",
    "        \n",
    "        future_q_values = self.central_model(np.array([current_local_states]))[0].numpy()\n",
    "        future_max_q_values_indices = np.argmax(predicted_q_values, axis=1)\n",
    "        future_max_q_values = predicted_q_values[np.arange(self.num_agents), max_q_values_indices]\n",
    "\n",
    "        calculated_q_values = self.calculate_q_values(max_q_values, rewards, future_max_q_values)\n",
    "\n",
    "        # self.central_model.fit(local_states, correct_q_values) #Train model with the correct q-values\n",
    "\n",
    "        #     #Fit local model\n",
    "        #     agent.local_model.fit(agent.local_state(), q_value)"
   ]
  },
  {
   "cell_type": "code",
   "execution_count": 110,
   "id": "b5c3247a-c4b9-4bad-b2ba-28c01b94f1c6",
   "metadata": {},
   "outputs": [],
   "source": [
    "class Agent():\n",
    "    def __init__(self):\n",
    "        self.id = 0\n",
    "        self.position = 0\n",
    "        self.epsilon = 0.1\n",
    "        \n",
    "        self.grid = []\n",
    "        \n",
    "        self.action_shape = 10      \n",
    "\n",
    "        self.local_model = self._local_network() \n",
    "        \n",
    "        self.current_state = []\n",
    "        self.previous_state = []\n",
    "        \n",
    "    def __repr__(self):\n",
    "        return f\"Agent(id={self.id}, pos={self.position})\"\n",
    "\n",
    "    def take_action(self, action):        \n",
    "        if action.action_type == 0:\n",
    "            grid.block += np.array(action.action)\n",
    "            grid.block %= [grid.rows, grid.cols]\n",
    "        \n",
    "        if action.action_type == 1:\n",
    "            self.position += np.array(action.action)\n",
    "            self.position %= [grid.rows, grid.cols]\n",
    "                        \n",
    "    def local_state(self):\n",
    "        local = np.copy(grid.global_state())\n",
    "        local[self.position] = 2\n",
    "        return local\n",
    "\n",
    "    def _local_network(self):        \n",
    "        local_state = self.local_state()\n",
    "        y = x = tf.keras.layers.Input(np.shape(local_state)) #Input: local state of agent\n",
    "        y = tf.keras.layers.Dense(64)(y)\n",
    "        y = tf.keras.layers.Dense(self.action_shape)(y) #Output: action for agent\n",
    "        model = tf.keras.Model(x, y)\n",
    "        \n",
    "        return model\n",
    "    \n",
    "    def local_policy(self):        \n",
    "        #Get the current state \n",
    "        current_state = self.get_state()\n",
    "        \n",
    "        #Take random action with some probability\n",
    "        if random.random() < self.epsilon:\n",
    "            return Action.random()\n",
    "        #Otherwise pick the best action to take\n",
    "        else:\n",
    "            predicted_action_q_values = self.model.predict(current_state)\n",
    "            best_action_q_value = np.max(predicted_action_q_values)\n",
    "            action = Actions[best_action_q_value]"
   ]
  },
  {
   "cell_type": "code",
   "execution_count": 111,
   "id": "d5afabe7-8212-4d3b-a4ed-c977e6868751",
   "metadata": {},
   "outputs": [],
   "source": [
    "grid = Grid()"
   ]
  },
  {
   "cell_type": "code",
   "execution_count": 112,
   "id": "89157e32-8b74-4db4-9600-bed7fd85e416",
   "metadata": {},
   "outputs": [
    {
     "data": {
      "text/plain": [
       "array([[ 0.,  0.,  0.,  0.],\n",
       "       [ 0.,  0.,  0., -2.],\n",
       "       [ 0.,  0., -1.,  0.],\n",
       "       [ 0.,  0.,  0.,  0.]])"
      ]
     },
     "execution_count": 112,
     "metadata": {},
     "output_type": "execute_result"
    }
   ],
   "source": [
    "grid.global_state()"
   ]
  },
  {
   "cell_type": "code",
   "execution_count": 113,
   "id": "e7df4c98-3cce-4c5b-a658-09715dd0dab2",
   "metadata": {},
   "outputs": [],
   "source": [
    "grid.add_agents()"
   ]
  },
  {
   "cell_type": "code",
   "execution_count": 114,
   "id": "d5bc5b2f-bad6-4e8a-bea7-58954e27bdf7",
   "metadata": {},
   "outputs": [
    {
     "data": {
      "text/plain": [
       "[Agent(id=0, pos=(3, 3)),\n",
       " Agent(id=1, pos=(2, 3)),\n",
       " Agent(id=2, pos=(3, 0)),\n",
       " Agent(id=3, pos=(2, 0)),\n",
       " Agent(id=4, pos=(1, 1))]"
      ]
     },
     "execution_count": 114,
     "metadata": {},
     "output_type": "execute_result"
    }
   ],
   "source": [
    "grid.agent_list"
   ]
  },
  {
   "cell_type": "code",
   "execution_count": 115,
   "id": "be43f8a3-8178-4ec9-b17b-890165d9e217",
   "metadata": {},
   "outputs": [
    {
     "data": {
      "text/plain": [
       "array([[[ 0.,  0.,  0.,  0.],\n",
       "        [ 0.,  1.,  0., -2.],\n",
       "        [ 1.,  0., -1.,  1.],\n",
       "        [ 1.,  0.,  0.,  2.]],\n",
       "\n",
       "       [[ 0.,  0.,  0.,  0.],\n",
       "        [ 0.,  1.,  0., -2.],\n",
       "        [ 1.,  0., -1.,  2.],\n",
       "        [ 1.,  0.,  0.,  1.]],\n",
       "\n",
       "       [[ 0.,  0.,  0.,  0.],\n",
       "        [ 0.,  1.,  0., -2.],\n",
       "        [ 1.,  0., -1.,  1.],\n",
       "        [ 2.,  0.,  0.,  1.]],\n",
       "\n",
       "       [[ 0.,  0.,  0.,  0.],\n",
       "        [ 0.,  1.,  0., -2.],\n",
       "        [ 2.,  0., -1.,  1.],\n",
       "        [ 1.,  0.,  0.,  1.]],\n",
       "\n",
       "       [[ 0.,  0.,  0.,  0.],\n",
       "        [ 0.,  2.,  0., -2.],\n",
       "        [ 1.,  0., -1.,  1.],\n",
       "        [ 1.,  0.,  0.,  1.]]])"
      ]
     },
     "execution_count": 115,
     "metadata": {},
     "output_type": "execute_result"
    }
   ],
   "source": [
    "grid.local_states()"
   ]
  },
  {
   "cell_type": "code",
   "execution_count": 116,
   "id": "2f2e2de0-0242-4337-bd64-1533d2e7d589",
   "metadata": {},
   "outputs": [
    {
     "data": {
      "text/plain": [
       "(1, 3)"
      ]
     },
     "execution_count": 116,
     "metadata": {},
     "output_type": "execute_result"
    }
   ],
   "source": [
    "grid.block"
   ]
  },
  {
   "cell_type": "code",
   "execution_count": 117,
   "id": "4e3fa4d9-b2b9-4d59-8dc4-c4d0bc4bf17d",
   "metadata": {},
   "outputs": [],
   "source": [
    "grid.central_policy()"
   ]
  },
  {
   "cell_type": "code",
   "execution_count": 118,
   "id": "bcb79314-08e5-4de3-938d-5d1b91506464",
   "metadata": {},
   "outputs": [
    {
     "data": {
      "text/plain": [
       "[Agent(id=0, pos=(3, 3)),\n",
       " Agent(id=1, pos=(2, 3)),\n",
       " Agent(id=2, pos=(3, 0)),\n",
       " Agent(id=3, pos=[2 3]),\n",
       " Agent(id=4, pos=(1, 1))]"
      ]
     },
     "execution_count": 118,
     "metadata": {},
     "output_type": "execute_result"
    }
   ],
   "source": [
    "grid.agent_list"
   ]
  },
  {
   "cell_type": "code",
   "execution_count": null,
   "id": "5e2b335c-6f6b-40da-9d86-daa848faaa72",
   "metadata": {},
   "outputs": [],
   "source": []
  },
  {
   "cell_type": "code",
   "execution_count": null,
   "id": "44eca4c6-b522-49bc-a4a7-c872cb547f88",
   "metadata": {},
   "outputs": [],
   "source": []
  }
 ],
 "metadata": {
  "kernelspec": {
   "display_name": "Python 3 (ipykernel)",
   "language": "python",
   "name": "python3"
  },
  "language_info": {
   "codemirror_mode": {
    "name": "ipython",
    "version": 3
   },
   "file_extension": ".py",
   "mimetype": "text/x-python",
   "name": "python",
   "nbconvert_exporter": "python",
   "pygments_lexer": "ipython3",
   "version": "3.11.5"
  }
 },
 "nbformat": 4,
 "nbformat_minor": 5
}
